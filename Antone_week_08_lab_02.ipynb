{
  "nbformat": 4,
  "nbformat_minor": 0,
  "metadata": {
    "kernelspec": {
      "display_name": "Python 3",
      "language": "python",
      "name": "python3"
    },
    "language_info": {
      "codemirror_mode": {
        "name": "ipython",
        "version": 3
      },
      "file_extension": ".py",
      "mimetype": "text/x-python",
      "name": "python",
      "nbconvert_exporter": "python",
      "pygments_lexer": "ipython3",
      "version": "3.8.6"
    },
    "colab": {
      "name": "Antone_week-08-lab-02.ipynb",
      "provenance": [],
      "include_colab_link": true
    }
  },
  "cells": [
    {
      "cell_type": "markdown",
      "metadata": {
        "id": "view-in-github",
        "colab_type": "text"
      },
      "source": [
        "<a href=\"https://colab.research.google.com/github/asmith785/DS2022/blob/main/Antone_week_08_lab_02.ipynb\" target=\"_parent\"><img src=\"https://colab.research.google.com/assets/colab-badge.svg\" alt=\"Open In Colab\"/></a>"
      ]
    },
    {
      "cell_type": "markdown",
      "metadata": {
        "id": "sNBxkR7SHyX5"
      },
      "source": [
        "<div style=\"background: #000;\n",
        "            color: #FFF;\n",
        "            margin: 0px;\n",
        "                padding: 10px 0px 20px 0px;\n",
        "            text-align: center; \n",
        "                \">\n",
        "    <h1>Week 8 - Lab</h1>\n",
        "</div>\n"
      ]
    },
    {
      "cell_type": "markdown",
      "metadata": {
        "id": "jevVoxKTHyYA"
      },
      "source": [
        "# Exercise 1\n",
        "\n",
        "Create a class called `Person`.\n",
        "Make an attribute for the class called `x` and set it equal to 5.\n",
        "\n",
        "Create an instance of the `Person` class.\n",
        "Print out the `x` attribute of the instance."
      ]
    },
    {
      "cell_type": "code",
      "metadata": {
        "id": "BzVopWT3H3fZ",
        "colab": {
          "base_uri": "https://localhost:8080/"
        },
        "outputId": "fb9c616d-9e7b-4eb9-bf04-fc079b08b8b4"
      },
      "source": [
        "class Person():\n",
        "  def __init__(self):\n",
        "    self._x = 5\n",
        "\n",
        "p1 = Person()\n",
        "print(p1._x)"
      ],
      "execution_count": null,
      "outputs": [
        {
          "output_type": "stream",
          "name": "stdout",
          "text": [
            "5\n"
          ]
        }
      ]
    },
    {
      "cell_type": "markdown",
      "metadata": {
        "id": "kTrhFdetHyYB"
      },
      "source": [
        "# Excerise 2\n",
        "\n",
        "Create a class called `Student` with  the following attributes \n",
        "<br>`first_name`\n",
        "<br>`last_name`\n",
        "<br>`age`\n",
        "<br>`hw_grades` \n",
        "# `THINK ABOUT WHAT DATA STRUCTURE WE SHOULD BE USING FOR HW GRADES`\n",
        "# `THINK ABOUT THE DATA STRUCTURES WE KNOW. WHAT SEEMS APPROPRIATE? LISTS, DICTS, TUPLES OR SETS?`\n",
        "\n",
        "Create methods that:\n",
        "<br>Print the full name of the student\n",
        "<br>Adds a grade to the attribute `hw_grades` \n",
        "<br>Calculates the Student's average hw grade\n",
        "\n",
        "Create an instance of the class and ensure that all the methods works."
      ]
    },
    {
      "cell_type": "code",
      "metadata": {
        "id": "vpmHMdRdIpQR"
      },
      "source": [
        "class Student():\n",
        "  def __init__ (self,first_name, last_name, age, hw_grades):\n",
        "    self.first_name = first_name\n",
        "    self.last_name = last_name\n",
        "    self.age = age\n",
        "    self.hw_grades = hw_grades\n",
        "  \n",
        "  def full_name(self):\n",
        "    print(self.first_name,self.last_name)\n",
        "\n",
        "  def add_hw_grade(self, grade):\n",
        "    self.grade = grade\n",
        "    if self.grade < 0 or self.grade > 100:\n",
        "      raise ValueError(\"INVADLID\")\n",
        "    self.hw_grades.append(self.grade)\n",
        "\n",
        "  def avg_hw_grades(self):\n",
        "    total = sum(self.hw_grades)/len(self.hw_grades)\n",
        "    return f'{self.name} homework average is {total}'\n",
        "    \n",
        "    \n",
        "\n"
      ],
      "execution_count": null,
      "outputs": []
    },
    {
      "cell_type": "code",
      "metadata": {
        "id": "VXRcciWAMMPv",
        "colab": {
          "base_uri": "https://localhost:8080/",
          "height": 368
        },
        "outputId": "34e2a5f1-fea5-4214-9759-7ac19f2f36e5"
      },
      "source": [
        "ace = Student(\"Antone\", \"Smith\" , 34, [95])\n",
        "ace.full_name()\n",
        "ace.add_hw_grade(80)\n",
        "ace.add_hw_grade(96)\n",
        "ace.avg_hw_grades()\n",
        "\n",
        "\n"
      ],
      "execution_count": null,
      "outputs": [
        {
          "output_type": "stream",
          "name": "stdout",
          "text": [
            "Antone Smith\n"
          ]
        },
        {
          "output_type": "error",
          "ename": "AttributeError",
          "evalue": "ignored",
          "traceback": [
            "\u001b[0;31m---------------------------------------------------------------------------\u001b[0m",
            "\u001b[0;31mAttributeError\u001b[0m                            Traceback (most recent call last)",
            "\u001b[0;32m<ipython-input-42-27972fca9813>\u001b[0m in \u001b[0;36m<module>\u001b[0;34m()\u001b[0m\n\u001b[1;32m      3\u001b[0m \u001b[0mace\u001b[0m\u001b[0;34m.\u001b[0m\u001b[0madd_hw_grade\u001b[0m\u001b[0;34m(\u001b[0m\u001b[0;36m80\u001b[0m\u001b[0;34m)\u001b[0m\u001b[0;34m\u001b[0m\u001b[0;34m\u001b[0m\u001b[0m\n\u001b[1;32m      4\u001b[0m \u001b[0mace\u001b[0m\u001b[0;34m.\u001b[0m\u001b[0madd_hw_grade\u001b[0m\u001b[0;34m(\u001b[0m\u001b[0;36m96\u001b[0m\u001b[0;34m)\u001b[0m\u001b[0;34m\u001b[0m\u001b[0;34m\u001b[0m\u001b[0m\n\u001b[0;32m----> 5\u001b[0;31m \u001b[0mace\u001b[0m\u001b[0;34m.\u001b[0m\u001b[0mavg_hw_grades\u001b[0m\u001b[0;34m(\u001b[0m\u001b[0;34m)\u001b[0m\u001b[0;34m\u001b[0m\u001b[0;34m\u001b[0m\u001b[0m\n\u001b[0m\u001b[1;32m      6\u001b[0m \u001b[0;34m\u001b[0m\u001b[0m\n\u001b[1;32m      7\u001b[0m \u001b[0;34m\u001b[0m\u001b[0m\n",
            "\u001b[0;32m<ipython-input-41-e259e3bbf6f5>\u001b[0m in \u001b[0;36mavg_hw_grades\u001b[0;34m(self)\u001b[0m\n\u001b[1;32m     17\u001b[0m   \u001b[0;32mdef\u001b[0m \u001b[0mavg_hw_grades\u001b[0m\u001b[0;34m(\u001b[0m\u001b[0mself\u001b[0m\u001b[0;34m)\u001b[0m\u001b[0;34m:\u001b[0m\u001b[0;34m\u001b[0m\u001b[0;34m\u001b[0m\u001b[0m\n\u001b[1;32m     18\u001b[0m     \u001b[0mtotal\u001b[0m \u001b[0;34m=\u001b[0m \u001b[0msum\u001b[0m\u001b[0;34m(\u001b[0m\u001b[0mself\u001b[0m\u001b[0;34m.\u001b[0m\u001b[0mhw_grades\u001b[0m\u001b[0;34m)\u001b[0m\u001b[0;34m/\u001b[0m\u001b[0mlen\u001b[0m\u001b[0;34m(\u001b[0m\u001b[0mself\u001b[0m\u001b[0;34m.\u001b[0m\u001b[0mhw_grades\u001b[0m\u001b[0;34m)\u001b[0m\u001b[0;34m\u001b[0m\u001b[0;34m\u001b[0m\u001b[0m\n\u001b[0;32m---> 19\u001b[0;31m     \u001b[0;32mreturn\u001b[0m \u001b[0;34mf'{self.name} homework average is {total}'\u001b[0m\u001b[0;34m\u001b[0m\u001b[0;34m\u001b[0m\u001b[0m\n\u001b[0m\u001b[1;32m     20\u001b[0m \u001b[0;34m\u001b[0m\u001b[0m\n\u001b[1;32m     21\u001b[0m \u001b[0;34m\u001b[0m\u001b[0m\n",
            "\u001b[0;31mAttributeError\u001b[0m: 'Student' object has no attribute 'name'"
          ]
        }
      ]
    },
    {
      "cell_type": "markdown",
      "metadata": {
        "id": "WZWl3ee5HyYC"
      },
      "source": [
        "# Exercise 3:\n",
        "Create a class called `Square` that overloads the addition operator by adding the area of two squares. You will need at least an attribute for length, a method for calculating area and the overloaded + operator method.\n",
        "\n",
        "e.g. Square(3) + Square(4) == 25"
      ]
    },
    {
      "cell_type": "code",
      "metadata": {
        "id": "Xmechz8HN5dq"
      },
      "source": [
        "class Square():\n",
        "  def __init__(self, lenght):\n",
        "    self.lenght = lenght\n",
        "\n",
        "  def area(self):\n",
        "    #if self.lenght != init or self.lenght != float:\n",
        "     # raise ValueError(\"NEED INT VALUE\")\n",
        "    a = self.lenght * self.lenght\n",
        "    return f'The area of the square is {a}'\n",
        "\n",
        "  def __add__(self,other):\n",
        "    lenght = self.lenght + other.lenght\n",
        "    return Square(lenght)\n",
        "\n",
        "  \n",
        "\n"
      ],
      "execution_count": null,
      "outputs": []
    },
    {
      "cell_type": "code",
      "metadata": {
        "id": "SMulVjVzP1-M",
        "colab": {
          "base_uri": "https://localhost:8080/",
          "height": 35
        },
        "outputId": "5e455e17-ed35-4d0c-a7c7-ff4f1b0d51c9"
      },
      "source": [
        "s = Square(5)\n",
        "\n",
        "s.area()"
      ],
      "execution_count": null,
      "outputs": [
        {
          "output_type": "execute_result",
          "data": {
            "application/vnd.google.colaboratory.intrinsic+json": {
              "type": "string"
            },
            "text/plain": [
              "'The area of the square is 25'"
            ]
          },
          "metadata": {},
          "execution_count": 44
        }
      ]
    },
    {
      "cell_type": "markdown",
      "metadata": {
        "id": "4XPds8EJHyYD"
      },
      "source": [
        "\n",
        "# Exercise 4:\n",
        "Create a class called `Store` with an attribute called `inventory` that stores key value pairs which represent a product and its count.\n",
        "<br> `{\"oranges\":100,'apples':20}`\n",
        "\n",
        "Create a `buy` method that decrements from a key's value whenever an item is \"bought\"\n",
        "\n",
        "Create a method that lists the products for sale.\n",
        "<br>Create a method that allows you to add more products to the store's inventory.\n",
        "\n",
        "\n",
        "When you're finished, create an instance of Store and demonstrate that your methods/code work. Bonus points for addtional methods/functionality."
      ]
    },
    {
      "cell_type": "code",
      "metadata": {
        "id": "riwC6n14Sctz"
      },
      "source": [
        "class Store():\n",
        "  def __init__(self,inventory):\n",
        "    self.inventory = inventory\n",
        "\n",
        "  def buy(self,product, quantity):\n",
        "    self.product = product\n",
        "    self.quantity = quantity\n",
        "    if self.product in self.inventory:\n",
        "      if self.quantity <= 0:\n",
        "        self.inventory[self.product] -= self.quantity\n",
        "    return self.inventory\n",
        "\n",
        "\n",
        "\n",
        "  def products_for_self(self):\n",
        "    print(f'Here whats we have for sale: {self.product}')\n",
        "\n",
        "  def add_to_inventory(self, product, quantity):\n",
        "    self.inventory.update(self.product)\n",
        "    return self.inventory\n",
        "\n",
        "  "
      ],
      "execution_count": null,
      "outputs": []
    },
    {
      "cell_type": "code",
      "metadata": {
        "id": "6wqXJ0ysWORQ"
      },
      "source": [
        "x = Store({'Apples': 20, \"Oranges\": 100})"
      ],
      "execution_count": null,
      "outputs": []
    },
    {
      "cell_type": "code",
      "metadata": {
        "id": "HSQq9WYqXKrW",
        "colab": {
          "base_uri": "https://localhost:8080/"
        },
        "outputId": "9e4955fb-1e76-4b92-faa6-2447b39b26e1"
      },
      "source": [
        "x.buy(\"Apples\", 10)\n"
      ],
      "execution_count": null,
      "outputs": [
        {
          "output_type": "execute_result",
          "data": {
            "text/plain": [
              "{'Apples': 20, 'Oranges': 100}"
            ]
          },
          "metadata": {},
          "execution_count": 49
        }
      ]
    },
    {
      "cell_type": "code",
      "metadata": {
        "id": "MO_jZuY9XWdf"
      },
      "source": [
        "x."
      ],
      "execution_count": null,
      "outputs": []
    }
  ]
}